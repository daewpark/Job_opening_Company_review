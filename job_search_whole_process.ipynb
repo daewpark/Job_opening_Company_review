{
 "cells": [
  {
   "cell_type": "code",
   "execution_count": 1,
   "metadata": {
    "scrolled": true
   },
   "outputs": [
    {
     "name": "stdout",
     "output_type": "stream",
     "text": [
      "Overwriting jobplanet_all.py\n"
     ]
    }
   ],
   "source": [
    "from mongodb_ju import collection_r, collection_c_jp, collection_c_w  # 몽고디비 연결\n",
    "from slack import send_slack  # slack.py 모듈\n",
    "from crawling_recruit import JobRecruit  # recruit 크롤링 모듈\n",
    "import pandas as pd\n",
    "%% writefile jobplanet_all.py\n",
    "# -*- coding: utf-8 -*-\n",
    "\n",
    "\n",
    "class jobplanet_all():\n",
    "\n",
    "    def get_old_recruit_df(self):\n",
    "        # 크롤링 전 mongodb에 저장된 데이터를 데이터프레임으로 저장\n",
    "        # old_mongodb 를 df로 만들기(pandas가 다루기 편하기 때문!)\n",
    "        old_recruit_df_jp = pd.DataFrame(list(collection_c_jp.find()))\n",
    "        old_recruit_df_w = pd.DataFrame(list(collection_c_w.find()))\n",
    "        # pickle로 저장\n",
    "        old_recruit_df_jp.to_pickle(\"job_search/old_recruit_df_jp.pkl\")\n",
    "        old_recruit_df_w.to_pickle(\"job_search/old_recruit_df_w.pkl\")\n",
    "\n",
    "    def recruit_crawling(self):\n",
    "        # ju: juhyun's mongodb에 저장\n",
    "        jpr = JobRecruit()\n",
    "        recruit = jpr.save_to_mongodb_j('ju')\n",
    "        wr = JobRecruit()\n",
    "        wrecruit = wr.save_to_mongodb_w('ju')\n",
    "\n",
    "    def review_crawling(self):\n",
    "        # 회사이름검색\n",
    "        C_jp_company_name_distinct = collection_c_jp.distinct(\"company_name\")\n",
    "        C_w_company_name_distinct = collection_c_w.distinct(\"company_name\")\n",
    "        R_company_name_distinct = collection_r.distinct(\"company_name\")\n",
    "\n",
    "        # recruit의 회사이름들 중 review에는 없는 회사이름 검색\n",
    "        company_name_recruit_only_jp = list(\n",
    "            set(C_jp_company_name_distinct)-set(R_company_name_distinct))\n",
    "        company_name_recruit_only_w = list(\n",
    "            set(C_w_company_name_distinct)-set(R_company_name_distinct))\n",
    "\n",
    "        # companay_name_recruit_only : jobplanet+wanted 합친후 중복제거\n",
    "        company_name_recruit_only = company_name_recruit_only_jp+company_name_recruit_only_w\n",
    "        company_name_recruit_only = list(set(company_name_recruit_only))\n",
    "\n",
    "        self.write_txt(company_name_recruit_only, 'job_search/only.txt', ' ')\n",
    "\n",
    "    # company_name_recruit_only를 텍스트 파일로 저장하는 함수\n",
    "    def write_txt(self, list, fname, sep):\n",
    "        file = open(fname, 'w')\n",
    "        vstr = ''\n",
    "\n",
    "        for a in list:\n",
    "            vstr = vstr+str(a)+sep\n",
    "        vstr = vstr.rstrip(sep)\n",
    "\n",
    "        file.writelines(vstr)\n",
    "\n",
    "        file.close()\n",
    "        print('[파일저장완료]')\n",
    "\n",
    "    # new_minus_old : df의 차집합 구하기\n",
    "    def new_minus_old(self, old, new):\n",
    "        # old와 new를 행으로 합치기\n",
    "        old_new_concat = pd.concat([old, new], keys=list(new.columns), axis=1)\n",
    "        # old의 multiindex만 뽑아내기\n",
    "        list(old_new_concat.columns[:int(len(old_new_concat.columns)/2)])\n",
    "        # old의 모든 행이 NAN인 행 뽑아내기\n",
    "        null_df = old_new_concat[list(\n",
    "            old_new_concat.columns[:int(len(old_new_concat.columns)/2)])].isnull()\n",
    "        # null_df의 Multiindex 없애기\n",
    "        null_df.columns = null_df.columns.droplevel()\n",
    "        # new에서 null_df의 값을 반환\n",
    "        # new_minus_old : 우리가 원하는 값! new에만 있는 값!\n",
    "        new_minus_old = new[null_df].dropna(how='all').drop_duplicates()\n",
    "        return new_minus_old\n",
    "\n",
    "    def new_mongo_db(self, which_old_recruit_df):\n",
    "        old_recruit_df = pd.read_pickle(\n",
    "            \"job_search/{}.pkl\".format(which_old_recruit_df))\n",
    "\n",
    "        if which_old_recruit_df == 'old_recruit_df_jp':\n",
    "            # old+new된 newmongodb\n",
    "            new_recruit_df = pd.DataFrame(list(collection_c_jp.find()))\n",
    "\n",
    "        elif which_old_recruit_df == 'old_recruit_df_w':\n",
    "            # old+new된 newmongodb\n",
    "            new_recruit_df = pd.DataFrame(list(collection_c_w.find()))\n",
    "\n",
    "        new_recruit_df = new_recruit_df.drop('_id', axis=1)\n",
    "        # new_mongodb_df의 duplicate를 drop 하여 다시 저장\n",
    "        new_recruit_df = new_recruit_df.drop_duplicates()\n",
    "        new_recruit_df = new_recruit_df.reset_index(drop=True)\n",
    "        #result_mongodb_df= new_mongodb_df-old_mongodb_df\n",
    "        result_recruit_df = self.new_minus_old(old_recruit_df, new_recruit_df)\n",
    "        result_recruit_df = result_recruit_df.reset_index(drop=True)\n",
    "        return result_recruit_df\n",
    "\n",
    "    def slack(self, result_recruit_df, from_which):\n",
    "        # company_names,titles,flask_urls->var_zip\n",
    "        company_names = [result_recruit_df.loc[i].company_name for i in range(\n",
    "            len(result_recruit_df))]\n",
    "        titles = [result_recruit_df.loc[i].title for i in range(\n",
    "            len(result_recruit_df))]\n",
    "        if from_which == 'Jobplanet':\n",
    "            flask_urls = ['http://15.164.118.245/jobplanet/{}/{}'.format(\n",
    "                company_name, title) for company_name, title in list(zip(company_names, titles))]\n",
    "        elif from_which == 'Wanted':\n",
    "            flask_urls = ['http://15.164.118.245/wanted/{}/{}'.format(\n",
    "                company_name, title) for company_name, title in list(zip(company_names, titles))]\n",
    "        var_zip = list(zip(company_names, titles, flask_urls))\n",
    "\n",
    "        # message\n",
    "        message = ['<{} :{}> {} 에서 새로운 채용공고가 떴습니다'.format(from_which, i, var_zip[i][0])+(' '*5) +\n",
    "                   '*공고제목:{}'.format(var_zip[i][1])+(' '*5) +\n",
    "                   '*공고와 회사리뷰 자세히 보기:{}'.format(var_zip[i][2]) for i in range(len(var_zip))]\n",
    "        # send_slack\n",
    "        for msg in message:\n",
    "            send_slack('{}'.format(msg))\n",
    "\n",
    "    # 크롤링 전 df 저장 -> recruit 크롤링 -> reveiw 크롤링 전체\n",
    "\n",
    "    def to_review_crawling(self):\n",
    "        self.get_old_recruit_df()  # 크롤링 이전, 몽고db의 테이블을 객체로 저장\n",
    "        self.recruit_crawling()  # 공고 크롤링\n",
    "        self.review_crawling()  # 리뷰 크롤링\n",
    "\n",
    "    def to_slack(self):\n",
    "        # jobplanet\n",
    "        # 크롤링 이전의 몽고db 객체와 크롤링 이후의 몽고db 데이터프레임을 비교함\n",
    "        result_recruit_df_jp = self.new_mongo_db('old_recruit_df_jp')\n",
    "        # 크롤링 이후의 몽고 db에 새롭게 추가된 내용을 slack 메시지로 전송\n",
    "        self.slack(result_recruit_df_jp, 'Jobplanet')\n",
    "        # wanted\n",
    "        result_recruit_df_w = self.new_mongo_db('old_recruit_df_w')\n",
    "        self.slack(result_recruit_df_w, 'Wanted')"
   ]
  },
  {
   "cell_type": "markdown",
   "metadata": {},
   "source": [
    "### crontab 실행 모듈"
   ]
  },
  {
   "cell_type": "code",
   "execution_count": 3,
   "metadata": {},
   "outputs": [
    {
     "name": "stdout",
     "output_type": "stream",
     "text": [
      "Overwriting to_review_crawling.py\n"
     ]
    }
   ],
   "source": [
    "from jobplanet_all import *\n",
    "%% writefile to_review_crawling.py\n",
    "# -*- coding: utf-8 -*-\n",
    "jobplanet = jobplanet_all()\n",
    "jobplanet.to_review_crawling()"
   ]
  },
  {
   "cell_type": "code",
   "execution_count": null,
   "metadata": {},
   "outputs": [],
   "source": [
    "!./run.sh"
   ]
  },
  {
   "cell_type": "code",
   "execution_count": 4,
   "metadata": {},
   "outputs": [
    {
     "name": "stdout",
     "output_type": "stream",
     "text": [
      "Overwriting to_slack.py\n"
     ]
    }
   ],
   "source": [
    "from jobplanet_all import *\n",
    "%% writefile to_slack.py\n",
    "jobplanet = jobplanet_all()\n",
    "jobplanet.to_slack()\n",
    "print(\"slack 메세지 보내기 완료\")"
   ]
  }
 ],
 "metadata": {
  "kernelspec": {
   "display_name": "Python 3",
   "language": "python",
   "name": "python3"
  },
  "language_info": {
   "codemirror_mode": {
    "name": "ipython",
    "version": 3
   },
   "file_extension": ".py",
   "mimetype": "text/x-python",
   "name": "python",
   "nbconvert_exporter": "python",
   "pygments_lexer": "ipython3",
   "version": "3.7.6"
  }
 },
 "nbformat": 4,
 "nbformat_minor": 2
}
